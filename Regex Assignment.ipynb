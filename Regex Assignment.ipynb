{
 "cells": [
  {
   "cell_type": "markdown",
   "id": "faf7deff",
   "metadata": {},
   "source": [
    "Write a Python program to check that a string contains only a certain set of characters (in this case a-z, A-Z and 0-9)."
   ]
  },
  {
   "cell_type": "code",
   "execution_count": 10,
   "id": "f548bdd6",
   "metadata": {},
   "outputs": [],
   "source": [
    "import re\n",
    "\n",
    "def contains_only_allowed_characters(string):\n",
    "   \n",
    "    allowed_pattern = r'^[a-zA-Z0-9]+$'\n",
    "\n",
    "    \n",
    "    if re.match(allowed_pattern, string):\n",
    "        return True\n",
    "    else:\n",
    "        return False\n",
    "\n"
   ]
  },
  {
   "cell_type": "code",
   "execution_count": 11,
   "id": "c84afb10",
   "metadata": {},
   "outputs": [
    {
     "name": "stdout",
     "output_type": "stream",
     "text": [
      "The string contains only allowed characters.\n"
     ]
    }
   ],
   "source": [
    "#Test the function\n",
    "test_string = \"Hello123\"\n",
    "if contains_only_allowed_characters(test_string):\n",
    "    print(\"The string contains only allowed characters.\")\n",
    "else:\n",
    "    print(\"The string contains characters that are not allowed.\")\n"
   ]
  },
  {
   "cell_type": "markdown",
   "id": "e5caddd3",
   "metadata": {},
   "source": [
    "Create a function in python that matches a string that has an a followed by zero or more b's"
   ]
  },
  {
   "cell_type": "code",
   "execution_count": 12,
   "id": "eaf71a7d",
   "metadata": {},
   "outputs": [],
   "source": [
    "import re\n",
    "\n",
    "def match_a_followed_by_bs(string):\n",
    "    pattern=r'^ab*$'\n",
    "    \n",
    "    if re.match(pattern, string):\n",
    "        return True\n",
    "    else:\n",
    "        return False\n"
   ]
  },
  {
   "cell_type": "code",
   "execution_count": 17,
   "id": "002e4cfb",
   "metadata": {},
   "outputs": [
    {
     "name": "stdout",
     "output_type": "stream",
     "text": [
      "The string matches the pattern.\n"
     ]
    }
   ],
   "source": [
    "#Test the function\n",
    "test_string = \"abbbbb\"\n",
    "if match_a_followed_by_bs(test_string):\n",
    "    print(\"The string matches the pattern.\")\n",
    "else:\n",
    "    print(\"The string does not match the pattern.\")"
   ]
  },
  {
   "cell_type": "markdown",
   "id": "ea48f255",
   "metadata": {},
   "source": [
    "Create a function in Python and use RegEx that matches a string that has an a followed by zero or one 'b'."
   ]
  },
  {
   "cell_type": "code",
   "execution_count": 19,
   "id": "2bba7b9a",
   "metadata": {},
   "outputs": [],
   "source": [
    "import re\n",
    "\n",
    "def match_a_followed_by_zero_or_one_bs(string):\n",
    "    pattern=r'ab?$'\n",
    "    \n",
    "    if re.match(pattern,string):\n",
    "        return True\n",
    "    else:\n",
    "        return False"
   ]
  },
  {
   "cell_type": "code",
   "execution_count": 20,
   "id": "fafdc595",
   "metadata": {},
   "outputs": [
    {
     "name": "stdout",
     "output_type": "stream",
     "text": [
      "The string match the pattern.\n"
     ]
    }
   ],
   "source": [
    "#Test the function\n",
    "test_string = \"ab\"\n",
    "if match_a_followed_by_zero_or_one_bs(test_string):\n",
    "    print(\"The string match the pattern.\")\n",
    "else:\n",
    "    print(\"The string does not match the pattern.\")"
   ]
  },
  {
   "cell_type": "markdown",
   "id": "59e0b516",
   "metadata": {},
   "source": [
    "Write a Python program that matches a string that has an a followed by three 'b'."
   ]
  },
  {
   "cell_type": "code",
   "execution_count": 24,
   "id": "d511f8ea",
   "metadata": {},
   "outputs": [],
   "source": [
    "import re\n",
    "def match_followed_by_three_bs(string):\n",
    "    pattern=r'abbb$'\n",
    "\n",
    "    if re.match(pattern,string):\n",
    "         return True\n",
    "    else:\n",
    "         return False\n"
   ]
  },
  {
   "cell_type": "code",
   "execution_count": 26,
   "id": "94896df6",
   "metadata": {},
   "outputs": [
    {
     "name": "stdout",
     "output_type": "stream",
     "text": [
      "The string match the pattern.\n"
     ]
    }
   ],
   "source": [
    "# Test the Function\n",
    "text_string=\"abbb\"\n",
    "if match_followed_by_three_bs(text_string):\n",
    "    print(\"The string match the pattern.\")\n",
    "else:\n",
    "    print(\"The string does not match the pattern.\")"
   ]
  },
  {
   "cell_type": "markdown",
   "id": "11046f6b",
   "metadata": {},
   "source": [
    "Write a regular expression in Python to split a string into uppercase letters."
   ]
  },
  {
   "cell_type": "code",
   "execution_count": 30,
   "id": "fe21ccdb",
   "metadata": {},
   "outputs": [],
   "source": [
    "import re\n",
    "def split_the_string_uppercase(string):\n",
    "    pattern=r'(?=[A-Z])'\n",
    "    \n",
    "    result= re.split(pattern,string)\n",
    "    return result\n",
    "        "
   ]
  },
  {
   "cell_type": "code",
   "execution_count": 31,
   "id": "95be8c32",
   "metadata": {},
   "outputs": [
    {
     "name": "stdout",
     "output_type": "stream",
     "text": [
      "['', 'Hello', 'Data', 'Trained', 'World']\n"
     ]
    }
   ],
   "source": [
    "# Test the Function\n",
    "text_string='HelloDataTrainedWorld'\n",
    "split_result=split_the_string_uppercase(text_string)\n",
    "print(split_result)"
   ]
  },
  {
   "cell_type": "markdown",
   "id": "d146fd54",
   "metadata": {},
   "source": [
    "Write a Python program that matches a string that has an a followed by two to three 'b'."
   ]
  },
  {
   "cell_type": "code",
   "execution_count": 32,
   "id": "04e63b2e",
   "metadata": {},
   "outputs": [],
   "source": [
    "import re\n",
    "def match_the_string_followed_by_two_to_three_bs(string):\n",
    "    pattern=r'ab{2,3}$'\n",
    "\n",
    "    if re.match(pattern,string):\n",
    "        return True\n",
    "    else:\n",
    "        return False\n",
    "    "
   ]
  },
  {
   "cell_type": "code",
   "execution_count": 34,
   "id": "3ebef083",
   "metadata": {},
   "outputs": [
    {
     "name": "stdout",
     "output_type": "stream",
     "text": [
      "String match the pattern.\n"
     ]
    }
   ],
   "source": [
    " #Test the Function\n",
    "text_string= \"abbb\"\n",
    "if match_the_string_followed_by_two_to_three_bs(text_string):\n",
    "    print(\"String match the pattern.\")\n",
    "else:\n",
    "    print(\"String does not match the pattern.\")"
   ]
  },
  {
   "cell_type": "markdown",
   "id": "093e6f8a",
   "metadata": {},
   "source": [
    "Write a Python program to find sequences of lowercase letters joined with a underscore."
   ]
  },
  {
   "cell_type": "code",
   "execution_count": 35,
   "id": "ac6fd9e7",
   "metadata": {},
   "outputs": [],
   "source": [
    "import re\n",
    "def find_sequence_of_lowercase_with_underscore(string):\n",
    "    pattern=r'[a-z]+_[a-z]+'\n",
    "    matches= re.findall(pattern,string)\n",
    "    return matches"
   ]
  },
  {
   "cell_type": "code",
   "execution_count": 39,
   "id": "7d2119de",
   "metadata": {},
   "outputs": [
    {
     "name": "stdout",
     "output_type": "stream",
     "text": [
      "['ython_program', 'find_sequences', 'lowercase_letters']\n"
     ]
    }
   ],
   "source": [
    " #Test the Function\n",
    "text_string= \"Python_program to find_sequences of lowercase_letters joined with a underscore.\"\n",
    "sequences= find_sequence_of_lowercase_with_underscore(text_string)\n",
    "print(sequences)\n",
    "    "
   ]
  },
  {
   "cell_type": "markdown",
   "id": "3fc9c3c9",
   "metadata": {},
   "source": [
    "Write a Python program that matches a string that has an 'a' followed by anything, ending in 'b'."
   ]
  },
  {
   "cell_type": "code",
   "execution_count": 44,
   "id": "e3fdde92",
   "metadata": {},
   "outputs": [],
   "source": [
    "import re\n",
    "def matches_a_followed_by_anything_end_with_b(string):\n",
    "    pattern=r'^a.*b$'\n",
    "    if re.match(pattern,string):\n",
    "        return True\n",
    "    else:\n",
    "        return False"
   ]
  },
  {
   "cell_type": "code",
   "execution_count": 45,
   "id": "10d823af",
   "metadata": {},
   "outputs": [
    {
     "name": "stdout",
     "output_type": "stream",
     "text": [
      "String matches the pattern.\n"
     ]
    }
   ],
   "source": [
    "text_string=\"axyzb\"\n",
    "if matches_a_followed_by_anything_end_with_b(text_string):\n",
    "    print(\"String matches the pattern.\")\n",
    "else:\n",
    "    print(\"String does not matches the pattern\")\n"
   ]
  },
  {
   "cell_type": "markdown",
   "id": "449c1cbe",
   "metadata": {},
   "source": [
    "Write a Python program that matches a word at the beginning of a string. "
   ]
  },
  {
   "cell_type": "code",
   "execution_count": 51,
   "id": "bc8cda7d",
   "metadata": {},
   "outputs": [],
   "source": [
    "import re\n",
    "def matches_a_word_at_the_beginning(word,string):\n",
    "    pattern=r'^' + re.escape(word)\n",
    "    \n",
    "    if re.match(pattern,string):\n",
    "        return True\n",
    "    else:\n",
    "        return False\n"
   ]
  },
  {
   "cell_type": "code",
   "execution_count": 53,
   "id": "a0c2fcfe",
   "metadata": {},
   "outputs": [
    {
     "name": "stdout",
     "output_type": "stream",
     "text": [
      "Word matches at the beginning.\n"
     ]
    }
   ],
   "source": [
    "text_word=\"Hello\"\n",
    "text_string=\"Hello, Datatrained!\"\n",
    "if matches_a_word_at_the_beginning(text_word,text_string):\n",
    "    print(\"Word matches at the beginning.\")\n",
    "else:\n",
    "    print(\"Word does not matches at the beginning.\")\n"
   ]
  },
  {
   "cell_type": "markdown",
   "id": "7d7e1633",
   "metadata": {},
   "source": [
    "Write a Python program to match a string that contains only upper and lowercase letters, numbers, and underscores."
   ]
  },
  {
   "cell_type": "code",
   "execution_count": 57,
   "id": "06daf98b",
   "metadata": {},
   "outputs": [],
   "source": [
    "import re\n",
    "def match_allowed_string(string):\n",
    "    pattern=r'[a-zA-Z0-9_]+$'\n",
    "    if re.match(pattern,string):\n",
    "        return True\n",
    "    else:\n",
    "        return False\n",
    "    "
   ]
  },
  {
   "cell_type": "code",
   "execution_count": 58,
   "id": "110d5a79",
   "metadata": {},
   "outputs": [
    {
     "name": "stdout",
     "output_type": "stream",
     "text": [
      "The string contain only not allowed characters.\n"
     ]
    }
   ],
   "source": [
    "text_string= \"Upper_lowercase letters123.\"\n",
    "if match_allowed_string(text_string):\n",
    "    print(\"The string contains only allowed characters.\")\n",
    "else:\n",
    "    print(\"The string contain only not allowed characters.\")"
   ]
  },
  {
   "cell_type": "markdown",
   "id": "0e25fc9c",
   "metadata": {},
   "source": [
    "Write a Python program where a string will start with a specific number. "
   ]
  },
  {
   "cell_type": "code",
   "execution_count": 60,
   "id": "8783d9b8",
   "metadata": {},
   "outputs": [],
   "source": [
    "import re\n",
    "def start_with_number(string,number):\n",
    "    return string.startswith(str(number))"
   ]
  },
  {
   "cell_type": "code",
   "execution_count": 62,
   "id": "e2cfb331",
   "metadata": {},
   "outputs": [
    {
     "name": "stdout",
     "output_type": "stream",
     "text": [
      "The string start with the specific number\n"
     ]
    }
   ],
   "source": [
    "text_string= \"12345678\"\n",
    "specific_number= 12\n",
    "if start_with_number(text_string,specific_number):\n",
    "    print(\"The string start with the specific number\")\n",
    "else:\n",
    "    print(\"The string doest not start with specific number\")"
   ]
  },
  {
   "cell_type": "code",
   "execution_count": null,
   "id": "958e9eeb",
   "metadata": {},
   "outputs": [],
   "source": []
  }
 ],
 "metadata": {
  "kernelspec": {
   "display_name": "Python 3 (ipykernel)",
   "language": "python",
   "name": "python3"
  },
  "language_info": {
   "codemirror_mode": {
    "name": "ipython",
    "version": 3
   },
   "file_extension": ".py",
   "mimetype": "text/x-python",
   "name": "python",
   "nbconvert_exporter": "python",
   "pygments_lexer": "ipython3",
   "version": "3.9.13"
  }
 },
 "nbformat": 4,
 "nbformat_minor": 5
}
